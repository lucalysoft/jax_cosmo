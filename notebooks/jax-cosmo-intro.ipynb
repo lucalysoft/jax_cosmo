{
  "nbformat": 4,
  "nbformat_minor": 0,
  "metadata": {
    "kernelspec": {
      "display_name": "Python 3",
      "language": "python",
      "name": "python3"
    },
    "language_info": {
      "codemirror_mode": {
        "name": "ipython",
        "version": 3
      },
      "file_extension": ".py",
      "mimetype": "text/x-python",
      "name": "python",
      "nbconvert_exporter": "python",
      "pygments_lexer": "ipython3",
      "version": "3.8.2"
    },
    "colab": {
      "name": "jax-cosmo-intro.ipynb",
      "provenance": [],
      "include_colab_link": true
    },
    "accelerator": "GPU"
  },
  "cells": [
    {
      "cell_type": "markdown",
      "metadata": {
        "id": "view-in-github",
        "colab_type": "text"
      },
      "source": [
        "<a href=\"https://colab.research.google.com/github/DifferentiableUniverseInitiative/jax_cosmo/blob/master/notebooks/jax-cosmo-intro.ipynb\" target=\"_parent\"><img src=\"https://colab.research.google.com/assets/colab-badge.svg\" alt=\"Open In Colab\"/></a>"
      ]
    },
    {
      "cell_type": "markdown",
      "metadata": {
        "id": "lpIJcb3tcFkC",
        "colab_type": "text"
      },
      "source": [
        "# Introduction to jax-cosmo\n",
        "\n",
        "Authors:\n",
        "  - [@EiffL](https://github.com/EiffL) (Francois Lanusse)\n",
        "\n",
        "### Overview\n",
        "\n",
        "`jax-cosmo` brings the power of automatic differentiation and XLA execution\n",
        "to cosmological computations, all the while preserving the readability and human\n",
        "friendliness of Python / NumPy.\n",
        "\n",
        "This is made possible by the [JAX](https://jax.readthedocs.io/en/latest/index.html) framework, which can be summarised as JAX = NumPy + autograd + GPU/TPU. We\n",
        "encourage the interested reader to follow this [introduction to JAX](https://jax.readthedocs.io/en/latest/notebooks/quickstart.html) but it will not be necessary to follow this notebook.\n",
        "\n",
        "\n",
        "### Learning objectives\n",
        "\n",
        "In this short introduction we will cover:\n",
        "  - How to define computations of **2pt functions**\n",
        "  - How to execute these computations on **GPU** (spoiler alert, you actually don't need to do anything, it happens automatically)\n",
        "  - How to **take derivatives** of any quantities by automatic differentation\n",
        "  - And finally, how to piece all of this together for efficient and reliable **Fisher matrices**.\n",
        "\n",
        "\n",
        "\n"
      ]
    },
    {
      "cell_type": "markdown",
      "metadata": {
        "id": "Dlb7kXPYEf6Z",
        "colab_type": "text"
      },
      "source": [
        "## Installing and importing jax-cosmo\n",
        "\n",
        "One of the important aspects of `jax-cosmo` is that it is entirely Python-based\n",
        "so it can trivially be installed without compiling or downloading any third-party tools.\n",
        "\n",
        "Here is how to install the current release on your system:"
      ]
    },
    {
      "cell_type": "code",
      "metadata": {
        "id": "yZWz-yxPcG6q",
        "colab_type": "code",
        "colab": {}
      },
      "source": [
        "# Installing jax-cosmo\n",
        "!pip install --quiet jax-cosmo"
      ],
      "execution_count": 0,
      "outputs": []
    },
    {
      "cell_type": "markdown",
      "metadata": {
        "id": "xvIGKcbXFEFO",
        "colab_type": "text"
      },
      "source": [
        "For efficient computation on GPU (if you have one), you might want to make sure that JAX itself is installed with the proper GPU-enabled backend. See [here](https://github.com/google/jax#installation) for more instructions.\n",
        "\n",
        "Now that `jax-cosmo` is installed, let's import it along with JAX tools:"
      ]
    },
    {
      "cell_type": "code",
      "metadata": {
        "id": "AZkSj6XNcFkE",
        "colab_type": "code",
        "outputId": "386782dd-fc7f-4e42-d456-d0cb482f2e8b",
        "colab": {
          "base_uri": "https://localhost:8080/",
          "height": 35
        }
      },
      "source": [
        "%pylab inline\n",
        "import jax\n",
        "import jax_cosmo as jc\n",
        "import jax.numpy as np"
      ],
      "execution_count": 2,
      "outputs": [
        {
          "output_type": "stream",
          "text": [
            "Populating the interactive namespace from numpy and matplotlib\n"
          ],
          "name": "stdout"
        }
      ]
    },
    {
      "cell_type": "markdown",
      "metadata": {
        "id": "bKuyf8bzFmSR",
        "colab_type": "text"
      },
      "source": [
        "**Note that we import the JAX version of NumPy here**. That's all that you have to do, any numpy functions you will use afterwards will be JAX-accelerated and differentiable.\n",
        "\n",
        "And for the purpose of this tutorial we also define a few plotting functions in the cell bellow, please run it."
      ]
    },
    {
      "cell_type": "code",
      "metadata": {
        "id": "8yvBIf1mm_h-",
        "colab_type": "code",
        "cellView": "form",
        "colab": {}
      },
      "source": [
        "#@title Defining some plotting functions [run me]\n",
        "\n",
        "import matplotlib.pyplot as plt\n",
        "from matplotlib.patches import Ellipse\n",
        "\n",
        "def plot_contours(hessian, pos,  nstd=1., ax=None, **kwargs):\n",
        "  \"\"\"\n",
        "  Plot 2D parameter contours given a Hessian matrix of the likelihood\n",
        "  \"\"\"\n",
        "  \n",
        "  def eigsorted(cov):\n",
        "    vals, vecs = linalg.eigh(cov)\n",
        "    order = vals.argsort()[::-1]\n",
        "    return vals[order], vecs[:, order]\n",
        "\n",
        "  mat = - hessian\n",
        "  cov = np.linalg.inv(mat)\n",
        "  sigma_marg = lambda i: np.sqrt(cov[i, i])\n",
        "\n",
        "  if ax is None:\n",
        "      ax = plt.gca()\n",
        "\n",
        "  vals, vecs = eigsorted(cov)\n",
        "  theta = degrees(np.arctan2(*vecs[:, 0][::-1]))\n",
        "\n",
        "  # Width and height are \"full\" widths, not radius\n",
        "  width, height = 2 * nstd * sqrt(vals)\n",
        "  ellip = Ellipse(xy=pos, width=width,\n",
        "                  height=height, angle=theta, **kwargs)\n",
        "\n",
        "  ax.add_artist(ellip)\n",
        "  sz = max(width, height)\n",
        "  s1 = 1.5*nstd*sigma_marg(0)\n",
        "  s2 = 1.5*nstd*sigma_marg(1)\n",
        "  ax.set_xlim(pos[0] - s1, pos[0] + s1)\n",
        "  ax.set_ylim(pos[1] - s2, pos[1] + s2)\n",
        "  plt.draw()\n",
        "  return ellip"
      ],
      "execution_count": 0,
      "outputs": []
    },
    {
      "cell_type": "markdown",
      "metadata": {
        "id": "nXjimh6KGFWm",
        "colab_type": "text"
      },
      "source": [
        "## Defining a Cosmology and computing background quantities\n",
        "\n",
        "We'll beginning with the basics, let's define a cosmology:\n"
      ]
    },
    {
      "cell_type": "code",
      "metadata": {
        "id": "R0wxmnuBG9EC",
        "colab_type": "code",
        "colab": {}
      },
      "source": [
        "# Create a cosmology with default parameters\n",
        "cosmo = jc.Planck15()"
      ],
      "execution_count": 0,
      "outputs": []
    },
    {
      "cell_type": "code",
      "metadata": {
        "id": "by_0gcYKG9Ag",
        "colab_type": "code",
        "colab": {}
      },
      "source": [
        "# Alternatively we can override some of the defaults\n",
        "cosmo_modified = jc.Planck15(h=0.7)"
      ],
      "execution_count": 0,
      "outputs": []
    },
    {
      "cell_type": "code",
      "metadata": {
        "id": "d-VI1BFuI3w1",
        "colab_type": "code",
        "outputId": "a1d468d8-e55d-4cc4-f10e-28d0fda2a128",
        "colab": {
          "base_uri": "https://localhost:8080/",
          "height": 35
        }
      },
      "source": [
        "# Parameters can be easily accessed from the cosmology object\n",
        "cosmo.h"
      ],
      "execution_count": 6,
      "outputs": [
        {
          "output_type": "execute_result",
          "data": {
            "text/plain": [
              "0.6774"
            ]
          },
          "metadata": {
            "tags": []
          },
          "execution_count": 6
        }
      ]
    },
    {
      "cell_type": "markdown",
      "metadata": {
        "id": "8RhqkfHjHgTT",
        "colab_type": "text"
      },
      "source": [
        "All background quantities can be computed from the `jax_cosmo.background` module, they typically take the cosmology as first argument, and a scale factor\n",
        "argument if they are not constant."
      ]
    },
    {
      "cell_type": "code",
      "metadata": {
        "id": "bdcm_oReG89o",
        "colab_type": "code",
        "outputId": "ed669005-1ad3-4ec5-9bda-51429dd1c9b9",
        "colab": {
          "base_uri": "https://localhost:8080/",
          "height": 337
        }
      },
      "source": [
        "# Let's define a range of scale factors\n",
        "a = np.linspace(0.01, 1.)\n",
        "\n",
        "# And compute the comoving distance for these scale factors \n",
        "chi = jc.background.radial_comoving_distance(cosmo, a)\n",
        "\n",
        "# We can now plot the results:\n",
        "plot(a, chi)\n",
        "xlabel(r'scale factor $a$')\n",
        "ylabel(r'radial comoving distance $\\chi$');"
      ],
      "execution_count": 9,
      "outputs": [
        {
          "output_type": "stream",
          "text": [
            "/usr/local/lib/python3.6/dist-packages/jax/lax/lax.py:5104: UserWarning: Explicitly requested dtype <class 'jax.numpy.lax_numpy.int64'> requested in astype is not available, and will be truncated to dtype int32. To enable more dtypes, set the jax_enable_x64 configuration option or the JAX_ENABLE_X64 shell environment variable. See https://github.com/google/jax#current-gotchas for more.\n",
            "  warnings.warn(msg.format(dtype, fun_name , truncated_dtype))\n"
          ],
          "name": "stderr"
        },
        {
          "output_type": "display_data",
          "data": {
            "image/png": "[encoded data removed]",
            "text/plain": [
              "<Figure size 432x288 with 1 Axes>"
            ]
          },
          "metadata": {
            "tags": [],
            "needs_background": "light"
          }
        }
      ]
    },
    {
      "cell_type": "code",
      "metadata": {
        "id": "z30Karo4Jdnw",
        "colab_type": "code",
        "colab": {}
      },
      "source": [
        "# Not sure what are the units of the comoving distance? just ask:\n",
        "jc.background.radial_comoving_distance?"
      ],
      "execution_count": 0,
      "outputs": []
    },
    {
      "cell_type": "markdown",
      "metadata": {
        "id": "yihFIALbJ24Q",
        "colab_type": "text"
      },
      "source": [
        "## Defining redshift distributions\n",
        "\n",
        "On our path to computing Fisher matrices, we need to be able to express redshift distrbutions. In `jax-cosmo` n(z) are parametrized functions which can\n",
        "be found in the `jax_cosmo.redshift` module. \n",
        "\n",
        "For the purpose of this tutorial, let's see how to define a Smail type distribution:\n",
        "$$ n(z) = z^a \\exp(- (z/z_0)^b) $$\n",
        "which depends on 3 parameters:"
      ]
    },
    {
      "cell_type": "code",
      "metadata": {
        "id": "2D7ouxvVIR7M",
        "colab_type": "code",
        "colab": {}
      },
      "source": [
        "# You can inspect the documentation to see the \n",
        "# meaning of these positional arguments\n",
        "nz1 = jc.redshift.smail_nz(1., 2.,  1.)\n",
        "nz2 = jc.redshift.smail_nz(1., 2.,  0.5)"
      ],
      "execution_count": 0,
      "outputs": []
    },
    {
      "cell_type": "code",
      "metadata": {
        "id": "Ef2oNlQ7Lmdi",
        "colab_type": "code",
        "outputId": "e7f7ad6c-118e-4d94-bb32-0fc84dc4f5ee",
        "colab": {
          "base_uri": "https://localhost:8080/",
          "height": 373
        }
      },
      "source": [
        "# And let's plot it\n",
        "z = np.linspace(0,5,256)\n",
        "\n",
        "# Redshift distributions are callable, and they return the normalized distribution\n",
        "plot(z, nz1(z), label='z0=1.')\n",
        "plot(z, nz2(z), label='z0=0.5')\n",
        "legend();\n",
        "xlabel('Redshift $z$');"
      ],
      "execution_count": 11,
      "outputs": [
        {
          "output_type": "stream",
          "text": [
            "/usr/local/lib/python3.6/dist-packages/jax/lax/lax.py:5104: UserWarning: Explicitly requested dtype <class 'jax.numpy.lax_numpy.int64'> requested in arange is not available, and will be truncated to dtype int32. To enable more dtypes, set the jax_enable_x64 configuration option or the JAX_ENABLE_X64 shell environment variable. See https://github.com/google/jax#current-gotchas for more.\n",
            "  warnings.warn(msg.format(dtype, fun_name , truncated_dtype))\n",
            "/usr/local/lib/python3.6/dist-packages/jax/lax/lax.py:5104: UserWarning: Explicitly requested dtype <class 'jax.numpy.lax_numpy.int64'> requested in arange is not available, and will be truncated to dtype int32. To enable more dtypes, set the jax_enable_x64 configuration option or the JAX_ENABLE_X64 shell environment variable. See https://github.com/google/jax#current-gotchas for more.\n",
            "  warnings.warn(msg.format(dtype, fun_name , truncated_dtype))\n"
          ],
          "name": "stderr"
        },
        {
          "output_type": "display_data",
          "data": {
            "image/png": "[encoded data removed]",
            "text/plain": [
              "<Figure size 432x288 with 1 Axes>"
            ]
          },
          "metadata": {
            "tags": [],
            "needs_background": "light"
          }
        }
      ]
    },
    {
      "cell_type": "code",
      "metadata": {
        "id": "0eG0GXjCLmhz",
        "colab_type": "code",
        "outputId": "7dfee10c-1aa6-4547-ba16-681a414d2f49",
        "colab": {
          "base_uri": "https://localhost:8080/",
          "height": 35
        }
      },
      "source": [
        "# We can check that the nz is properly normalized\n",
        "jc.scipy.integrate.romb(nz1, 0., 5.)"
      ],
      "execution_count": 12,
      "outputs": [
        {
          "output_type": "execute_result",
          "data": {
            "text/plain": [
              "DeviceArray(1.0000004, dtype=float32)"
            ]
          },
          "metadata": {
            "tags": []
          },
          "execution_count": 12
        }
      ]
    },
    {
      "cell_type": "markdown",
      "metadata": {
        "id": "ZUYVlhKkMLpl",
        "colab_type": "text"
      },
      "source": [
        "Nice :-D "
      ]
    },
    {
      "cell_type": "markdown",
      "metadata": {
        "id": "PGCY4irsNI9B",
        "colab_type": "text"
      },
      "source": [
        "### Defining probes and computing angular $C_\\ell$\n",
        "\n",
        "Let's now move on to define lensing and clustering probes using these two n(z).\n",
        "In `jax-cosmo` a probe/tracer of a given type, i.e. lensing, contains a series of parameters, like redshift distributions, or galaxy bias. Probes are hosted in\n",
        "the `jax_cosmo.probes` module.\n",
        "\n",
        "$C_\\ell$ computations will then take as argument a list of probes and will compute all auto- and cross- correlations between all redshift bins of all probes. "
      ]
    },
    {
      "cell_type": "code",
      "metadata": {
        "id": "-YUfaBhzNINW",
        "colab_type": "code",
        "colab": {}
      },
      "source": [
        "# First we define a list of redshift bins\n",
        "nzs = [nz1, nz2]"
      ],
      "execution_count": 0,
      "outputs": []
    },
    {
      "cell_type": "code",
      "metadata": {
        "id": "R3qUxP9wO6fH",
        "colab_type": "code",
        "colab": {}
      },
      "source": [
        "# And now we define 2 probes \n",
        "probes = [ jc.probes.WeakLensing(nzs, sigma_e=0.26), \n",
        "           jc.probes.NumberCounts(nzs, jc.bias.constant_linear_bias(1.)) ]"
      ],
      "execution_count": 0,
      "outputs": []
    },
    {
      "cell_type": "markdown",
      "metadata": {
        "id": "t40aS024QFHx",
        "colab_type": "text"
      },
      "source": [
        "Given these probes, we can now compute tomographic angular power spectra for these probes using the `angular_cl` tools hosted in the `jax_cosmo.angular_cl` module. For now, all computations are done under the Limber approximation."
      ]
    },
    {
      "cell_type": "code",
      "metadata": {
        "id": "QWedY8i6cFkw",
        "colab_type": "code",
        "colab": {}
      },
      "source": [
        "# Let's define a range of \\ell\n",
        "ell = np.logspace(1,3)\n",
        "\n",
        "# And compute the data vector\n",
        "cls = jc.angular_cl.angular_cl(cosmo, ell, probes)"
      ],
      "execution_count": 0,
      "outputs": []
    },
    {
      "cell_type": "code",
      "metadata": {
        "id": "VSKlZxxARxYO",
        "colab_type": "code",
        "outputId": "72c77b0e-c64d-4479-ac3e-67a6edf4b7a0",
        "colab": {
          "base_uri": "https://localhost:8080/",
          "height": 35
        }
      },
      "source": [
        "# Let's check the shape of these Cls\n",
        "cls.shape"
      ],
      "execution_count": 16,
      "outputs": [
        {
          "output_type": "execute_result",
          "data": {
            "text/plain": [
              "(10, 50)"
            ]
          },
          "metadata": {
            "tags": []
          },
          "execution_count": 16
        }
      ]
    },
    {
      "cell_type": "markdown",
      "metadata": {
        "id": "X-Vnim-cSQSh",
        "colab_type": "text"
      },
      "source": [
        "We see that we have obtained 10 spectra, each of them of size 50, which is the length of the $\\ell$ vector. They are ordered first by probe, then by redshift bin. So the first cl is the lensing auto-spectrum of the first bin"
      ]
    },
    {
      "cell_type": "code",
      "metadata": {
        "id": "-Xc458aidYL8",
        "colab_type": "code",
        "outputId": "b041058a-8971-49af-fa0f-682d9fde414a",
        "colab": {
          "base_uri": "https://localhost:8080/",
          "height": 303
        }
      },
      "source": [
        "# This is for instance the first bin auto-spectrum \n",
        "loglog(ell, cls[0])\n",
        "ylabel(r'$C_\\ell$')\n",
        "xlabel(r'$\\ell$');\n",
        "title(r'Angular $C_\\ell$');"
      ],
      "execution_count": 17,
      "outputs": [
        {
          "output_type": "display_data",
          "data": {
            "image/png": "[encoded data removed]",
            "text/plain": [
              "<Figure size 432x288 with 1 Axes>"
            ]
          },
          "metadata": {
            "tags": [],
            "needs_background": "light"
          }
        }
      ]
    },
    {
      "cell_type": "markdown",
      "metadata": {
        "id": "Ri-QjcD8UckV",
        "colab_type": "text"
      },
      "source": [
        "In addition to the data vector, we can also compute the covariance matrix using the tools from that module. Here is an example:"
      ]
    },
    {
      "cell_type": "code",
      "metadata": {
        "id": "zIdQSRgkUYC7",
        "colab_type": "code",
        "colab": {}
      },
      "source": [
        "mu, cov = jc.angular_cl.gaussian_cl_covariance_and_mean(cosmo, ell, probes);"
      ],
      "execution_count": 0,
      "outputs": []
    },
    {
      "cell_type": "markdown",
      "metadata": {
        "id": "yGd3NelNVZpj",
        "colab_type": "text"
      },
      "source": [
        "The data vector from this function is in a flattened shape so that it can be multiplied by the covariance matrix easily."
      ]
    },
    {
      "cell_type": "code",
      "metadata": {
        "id": "WX5lmHsRVXIh",
        "colab_type": "code",
        "outputId": "40c84353-bffb-4ab1-c7bf-05eea87ad08d",
        "colab": {
          "base_uri": "https://localhost:8080/",
          "height": 265
        }
      },
      "source": [
        "semilogy(mu);"
      ],
      "execution_count": 19,
      "outputs": [
        {
          "output_type": "display_data",
          "data": {
            "image/png": "[encoded data removed]",
            "text/plain": [
              "<Figure size 432x288 with 1 Axes>"
            ]
          },
          "metadata": {
            "tags": [],
            "needs_background": "light"
          }
        }
      ]
    },
    {
      "cell_type": "code",
      "metadata": {
        "id": "KLdw1eSvVXE3",
        "colab_type": "code",
        "outputId": "d9eb790d-1a68-40c6-eb92-337ed5d1d658",
        "colab": {
          "base_uri": "https://localhost:8080/",
          "height": 595
        }
      },
      "source": [
        "figure(figsize=(10,10))\n",
        "imshow(np.log10(cov+1e-11),cmap='gist_stern');"
      ],
      "execution_count": 20,
      "outputs": [
        {
          "output_type": "display_data",
          "data": {
            "image/png": "[encoded data removed]",
            "text/plain": [
              "<Figure size 720x720 with 1 Axes>"
            ]
          },
          "metadata": {
            "tags": [],
            "needs_background": "light"
          }
        }
      ]
    },
    {
      "cell_type": "markdown",
      "metadata": {
        "id": "hN5jA8ogp7Bb",
        "colab_type": "text"
      },
      "source": [
        "### Where the wild things are: Automatic Differentiation\n",
        "\n",
        "Now that we know how to compute various quantities, we can move on to the amazing part, computing gradients automatically by autodiff. As an example, we\n",
        "will demonstrate how to analytically **compute Fisher matrices, without finite differences.** But gradients are usefull for a wide range of other applications.\n",
        "\n",
        "\n",
        "We begin by defining a Gaussian likelihood function for the data vector we have \n",
        "obtained at the previous step. And we make this likelihood function depend on an array of parameters, `Omega_c`, `sigma_8`.\n",
        " \n",
        "\n"
      ]
    },
    {
      "cell_type": "code",
      "metadata": {
        "id": "QUBA8ajicFk4",
        "colab_type": "code",
        "colab": {}
      },
      "source": [
        "# Let's define a parameter vector for Omega_cdm, sigma8, which we initialize \n",
        "# at the fiducial cosmology used to produce the data vector.\n",
        "data = mu;\n",
        "params = np.array([cosmo.Omega_c, cosmo.sigma8])\n",
        "\n",
        "# Note the `jit` decorator for just in time compilation, this makes your code\n",
        "# run fast on GPU :-)\n",
        "@jax.jit\n",
        "def likelihood(p):\n",
        "  # Create a new cosmology at these parameters\n",
        "  cosmo = jc.Planck15(Omega_c=p[0], sigma8=p[1])\n",
        "\n",
        "  # Compute mean and covariance of angular Cls\n",
        "  m, C = jc.angular_cl.gaussian_cl_covariance_and_mean(cosmo, ell, probes)\n",
        "\n",
        "  # Return likelihood value assuming constant covariance, so we stop the gradient\n",
        "  # at the level of the precision matrix, and we will not include the logdet term\n",
        "  # in the likelihood\n",
        "  P = jax.lax.stop_gradient(np.linalg.inv(C))\n",
        "  r = data - m\n",
        "  return -0.5 * (r.T @ P @ r)"
      ],
      "execution_count": 0,
      "outputs": []
    },
    {
      "cell_type": "code",
      "metadata": {
        "id": "4Us1pbt1dt-h",
        "colab_type": "code",
        "outputId": "0e080068-683d-444f-aea2-a29bb5119cde",
        "colab": {
          "base_uri": "https://localhost:8080/",
          "height": 53
        }
      },
      "source": [
        "# Computing the likelihood at our fiducial params, we should get 0 since we don't\n",
        "# have the normalization term\n",
        "print(likelihood(params))\n",
        "%timeit likelihood(params).block_until_ready()"
      ],
      "execution_count": 23,
      "outputs": [
        {
          "output_type": "stream",
          "text": [
            "-3.7244496e-09\n",
            "10 loops, best of 3: 40.6 ms per loop\n"
          ],
          "name": "stdout"
        }
      ]
    },
    {
      "cell_type": "markdown",
      "metadata": {
        "id": "EmJfTrVSySAW",
        "colab_type": "text"
      },
      "source": [
        ""
      ]
    },
    {
      "cell_type": "code",
      "metadata": {
        "id": "V9vX2W1UyRhm",
        "colab_type": "code",
        "colab": {}
      },
      "source": [
        ""
      ],
      "execution_count": 0,
      "outputs": []
    },
    {
      "cell_type": "code",
      "metadata": {
        "id": "ZffgIO63duGn",
        "colab_type": "code",
        "colab": {}
      },
      "source": [
        "# But wait, there is more! We can compute the derivatives of the likelihood\n",
        "grad_loglik = jax.jit(jax.grad(likelihood))"
      ],
      "execution_count": 0,
      "outputs": []
    },
    {
      "cell_type": "code",
      "metadata": {
        "id": "ipixcS11cFlB",
        "colab_type": "code",
        "outputId": "204835df-0a54-4a7a-a923-e1b1553811b5",
        "colab": {
          "base_uri": "https://localhost:8080/",
          "height": 217
        }
      },
      "source": [
        "print(grad_loglik(params))\n",
        "%timeit grad_loglik(params).block_until_ready()"
      ],
      "execution_count": 0,
      "outputs": [
        {
          "output_type": "stream",
          "text": [
            "/usr/local/lib/python3.6/dist-packages/jax/lax/lax.py:5104: UserWarning: Explicitly requested dtype float64 requested in asarray is not available, and will be truncated to dtype float32. To enable more dtypes, set the jax_enable_x64 configuration option or the JAX_ENABLE_X64 shell environment variable. See https://github.com/google/jax#current-gotchas for more.\n",
            "  warnings.warn(msg.format(dtype, fun_name , truncated_dtype))\n",
            "/usr/local/lib/python3.6/dist-packages/jax/lax/lax.py:5104: UserWarning: Explicitly requested dtype float64 requested in array is not available, and will be truncated to dtype float32. To enable more dtypes, set the jax_enable_x64 configuration option or the JAX_ENABLE_X64 shell environment variable. See https://github.com/google/jax#current-gotchas for more.\n",
            "  warnings.warn(msg.format(dtype, fun_name , truncated_dtype))\n",
            "/usr/local/lib/python3.6/dist-packages/jax/lax/lax.py:5104: UserWarning: Explicitly requested dtype <class 'jax.numpy.lax_numpy.int64'> requested in astype is not available, and will be truncated to dtype int32. To enable more dtypes, set the jax_enable_x64 configuration option or the JAX_ENABLE_X64 shell environment variable. See https://github.com/google/jax#current-gotchas for more.\n",
            "  warnings.warn(msg.format(dtype, fun_name , truncated_dtype))\n",
            "/usr/local/lib/python3.6/dist-packages/jax/lax/lax.py:5104: UserWarning: Explicitly requested dtype <class 'jax.numpy.lax_numpy.int64'> requested in arange is not available, and will be truncated to dtype int32. To enable more dtypes, set the jax_enable_x64 configuration option or the JAX_ENABLE_X64 shell environment variable. See https://github.com/google/jax#current-gotchas for more.\n",
            "  warnings.warn(msg.format(dtype, fun_name , truncated_dtype))\n"
          ],
          "name": "stderr"
        },
        {
          "output_type": "stream",
          "text": [
            "[ 91199.54 120366.52]\n",
            "1 loop, best of 3: 203 ms per loop\n"
          ],
          "name": "stdout"
        }
      ]
    },
    {
      "cell_type": "code",
      "metadata": {
        "id": "D9HTrs3-g36W",
        "colab_type": "code",
        "colab": {}
      },
      "source": [
        "# And now, the killer example! Hessian of the likelihood"
      ],
      "execution_count": 0,
      "outputs": []
    },
    {
      "cell_type": "code",
      "metadata": {
        "id": "bXNSf1i9cFlI",
        "colab_type": "code",
        "colab": {}
      },
      "source": [
        "hessian_loglik = jax.jit(jax.hessian(likelihood))"
      ],
      "execution_count": 0,
      "outputs": []
    },
    {
      "cell_type": "code",
      "metadata": {
        "id": "8hEptBHZig3S",
        "colab_type": "code",
        "outputId": "eae5527a-f643-4749-aa73-3ff720fb8ae8",
        "colab": {
          "base_uri": "https://localhost:8080/",
          "height": 35
        }
      },
      "source": [
        "H = hessian_loglik(params)\n",
        "%timeit hessian_loglik(params).block_until_ready()"
      ],
      "execution_count": 0,
      "outputs": [
        {
          "output_type": "stream",
          "text": [
            "1 loop, best of 3: 299 ms per loop\n"
          ],
          "name": "stdout"
        }
      ]
    },
    {
      "cell_type": "code",
      "metadata": {
        "id": "pmTdQeeXk8qB",
        "colab_type": "code",
        "outputId": "7be92b26-baba-4dee-eae6-01987eaf90e1",
        "colab": {
          "base_uri": "https://localhost:8080/",
          "height": 298
        }
      },
      "source": [
        "# Let's compute the Fisher matrix, i.e. the same thing but at the true cosmmology\n",
        "H = hessian_loglik(np.array([cosmo.Omega_c, cosmo.sigma8]))\n",
        "\n",
        "plot_contours(H, params, fill=False);\n",
        "xlabel('Omega_m')\n",
        "ylabel('sigma8')"
      ],
      "execution_count": 0,
      "outputs": [
        {
          "output_type": "execute_result",
          "data": {
            "text/plain": [
              "Text(14.375, 0.5, 'sigma8')"
            ]
          },
          "metadata": {
            "tags": []
          },
          "execution_count": 22
        },
        {
          "output_type": "display_data",
          "data": {
            "image/png": "[encoded data removed]",
            "text/plain": [
              "<Figure size 432x288 with 1 Axes>"
            ]
          },
          "metadata": {
            "tags": [],
            "needs_background": "light"
          }
        }
      ]
    },
    {
      "cell_type": "code",
      "metadata": {
        "id": "WKn4COsdlKfs",
        "colab_type": "code",
        "colab": {}
      },
      "source": [
        ""
      ],
      "execution_count": 0,
      "outputs": []
    }
  ]
}