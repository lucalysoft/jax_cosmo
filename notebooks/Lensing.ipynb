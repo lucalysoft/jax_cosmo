{
 "cells": [
  {
   "cell_type": "code",
   "execution_count": 1,
   "metadata": {},
   "outputs": [
    {
     "name": "stdout",
     "output_type": "stream",
     "text": [
      "Populating the interactive namespace from numpy and matplotlib\n"
     ]
    }
   ],
   "source": [
    "%pylab inline\n",
    "%load_ext autoreload\n",
    "%autoreload 2\n",
    "import jax.numpy as np\n",
    "from jax import grad, jit, vmap\n",
    "from jax.experimental.ode import odeint\n",
    "from functools import partial\n",
    "from jax_cosmo import Planck15, background, Cosmology\n",
    "import jax_cosmo.ops as ops\n",
    "from jax_cosmo.utils import a2z, z2a\n",
    "from jax_cosmo.power import linear_matter_power\n",
    "import jax_cosmo.constants as const"
   ]
  },
  {
   "cell_type": "code",
   "execution_count": 2,
   "metadata": {},
   "outputs": [],
   "source": [
    "# First, let's define some analytic dndz\n",
    "def smail_nz(z, a=2.0, b=1.5,z0=1.):\n",
    "    return z**a * np.exp(-(z / z0)**b)"
   ]
  },
  {
   "cell_type": "code",
   "execution_count": 3,
   "metadata": {},
   "outputs": [
    {
     "name": "stderr",
     "output_type": "stream",
     "text": [
      "/home/francois/.local/lib/python3.7/site-packages/jax/lib/xla_bridge.py:116: UserWarning: No GPU/TPU found, falling back to CPU.\n",
      "  warnings.warn('No GPU/TPU found, falling back to CPU.')\n"
     ]
    },
    {
     "data": {
      "text/plain": [
       "0.6665640513688308"
      ]
     },
     "execution_count": 3,
     "metadata": {},
     "output_type": "execute_result"
    }
   ],
   "source": [
    "# Compute the normalization of the nz integral  \n",
    "from scipy.integrate import simps\n",
    "simps(smail_nz(linspace(0,5,100)), linspace(0,5,100))"
   ]
  },
  {
   "cell_type": "code",
   "execution_count": 4,
   "metadata": {},
   "outputs": [],
   "source": [
    "def smail_nz(z, a=2.0, b=1.5,z0=1.):\n",
    "    return z**a * np.exp(-(z / z0)**b)/0.6665640513688308"
   ]
  },
  {
   "cell_type": "code",
   "execution_count": 5,
   "metadata": {},
   "outputs": [
    {
     "data": {
      "text/plain": [
       "1.000000009429739"
      ]
     },
     "execution_count": 5,
     "metadata": {},
     "output_type": "execute_result"
    }
   ],
   "source": [
    "simps(smail_nz(linspace(0,5,100)), linspace(0,5,100))"
   ]
  },
  {
   "cell_type": "code",
   "execution_count": 6,
   "metadata": {},
   "outputs": [
    {
     "data": {
      "text/plain": [
       "[<matplotlib.lines.Line2D at 0x7f0a4c08e5d0>]"
      ]
     },
     "execution_count": 6,
     "metadata": {},
     "output_type": "execute_result"
    },
    {
     "data": {
      "image/png": "[encoded data removed]",
      "text/plain": [
       "<Figure size 432x288 with 1 Axes>"
      ]
     },
     "metadata": {
      "needs_background": "light"
     },
     "output_type": "display_data"
    }
   ],
   "source": [
    "# Plotting the nz\n",
    "z = np.linspace(0,10)\n",
    "plot(z, smail_nz(z))"
   ]
  },
  {
   "cell_type": "code",
   "execution_count": 7,
   "metadata": {
    "scrolled": true
   },
   "outputs": [],
   "source": [
    "# get a cosmology\n",
    "cosmo = Cosmology(Omega_c=0.3, Omega_b=0.05, h=0.7, \n",
    "                  sigma8 = 0.8, n_s=0.96, Omega_k=0.,\n",
    "                  w0=-1., wa=0.)"
   ]
  },
  {
   "cell_type": "code",
   "execution_count": 8,
   "metadata": {},
   "outputs": [],
   "source": [
    "def lensing_kernel(cosmo, chi, pz=smail_nz):\n",
    "    \"\"\"\n",
    "    Compute lensing efficiency integrated over redshift distribution\n",
    "    \n",
    "    W(chi)\n",
    "    \n",
    "    This only works in flat.... but ok...\n",
    "    \"\"\"\n",
    "    # Get intergration bounds\n",
    "    z_min = a2z(background.a_of_chi(cosmo, chi))[0]\n",
    "    \n",
    "    def integrand(y, z, chi, cosmo):\n",
    "        chi_prime = background.radial_comoving_distance(cosmo, z2a(z)) \n",
    "        return pz(z) * (chi_prime - chi)/(chi_prime + 1e-5)\n",
    "    y = odeint(integrand, 0., np.linspace(z_min, 10.0, 10), chi, cosmo)\n",
    "    return  y[-1]"
   ]
  },
  {
   "cell_type": "code",
   "execution_count": 9,
   "metadata": {},
   "outputs": [],
   "source": [
    "# Batching this lensing kernel\n",
    "w = vmap(lensing_kernel, (None, 0))"
   ]
  },
  {
   "cell_type": "code",
   "execution_count": 10,
   "metadata": {},
   "outputs": [],
   "source": [
    "# Now we can compute the angular_cl using Limber\n",
    "def angular_cl(cosmo, ell):\n",
    "    \n",
    "    atab = np.linspace(0.1,1.)\n",
    "    r = background.radial_comoving_distance(cosmo, atab)\n",
    "    \n",
    "    # Tabulate the lensing kernel\n",
    "    wtab = w(cosmo, r)\n",
    "    \n",
    "    def integrand(y, chi, cosmo, ell, atab, wtab):\n",
    "        print(\"Bonjour\")\n",
    "        \n",
    "        # Step 1: retrieve scale factor for given chi\n",
    "        a = background.a_of_chi(cosmo, chi)\n",
    "\n",
    "        # Step 2: get the powers pectrum for this combination of chi and a\n",
    "        k = (ell+0.5)/chi\n",
    "        pk = linear_matter_power(cosmo, k, a)\n",
    "        \n",
    "        # Step 3: Get the lensing kernel evaluated at given a\n",
    "        kernel = ops.interp(np.atleast_1d(a), atab, wtab)[0]\n",
    "        \n",
    "        # Step 4: return the integrand\n",
    "        return  (1. + a2z(a))**2 * pk * kernel**2 \n",
    "    \n",
    "    # Integrate from 10 to 7000 Mpc/h we probably should turn this into and integral over a\n",
    "    y = odeint(integrand, 0., np.linspace(10., 7000.,100), cosmo, ell, atab, wtab)\n",
    "    \n",
    "    # Lensing prefactors in Limber\n",
    "    factor = (3.0 * const.H0**2 * cosmo.Omega_m / (2.0 * const.c**2))**2 \n",
    "    factor *= ((ell-1)*(ell)*(ell+1)*(ell+2))/(ell+0.5)**4\n",
    "\n",
    "    return factor * y[-1]"
   ]
  },
  {
   "cell_type": "code",
   "execution_count": 11,
   "metadata": {},
   "outputs": [],
   "source": [
    "# Batch it to compute a bunch of ells at the same time \n",
    "batched_angular_cl = jit(vmap(angular_cl, (None, 0)))"
   ]
  },
  {
   "cell_type": "code",
   "execution_count": 12,
   "metadata": {},
   "outputs": [
    {
     "name": "stderr",
     "output_type": "stream",
     "text": [
      "/home/francois/.local/lib/python3.7/site-packages/jax/lax/lax.py:5190: UserWarning: Explicitly requested dtype float64 requested in asarray is not available, and will be truncated to dtype float32. To enable more dtypes, set the jax_enable_x64 configuration option or the JAX_ENABLE_X64 shell environment variable. See https://github.com/google/jax#current-gotchas for more.\n",
      "  warnings.warn(msg.format(dtype, fun_name , truncated_dtype))\n",
      "/home/francois/.local/lib/python3.7/site-packages/jax/lax/lax.py:5190: UserWarning: Explicitly requested dtype float64 requested in array is not available, and will be truncated to dtype float32. To enable more dtypes, set the jax_enable_x64 configuration option or the JAX_ENABLE_X64 shell environment variable. See https://github.com/google/jax#current-gotchas for more.\n",
      "  warnings.warn(msg.format(dtype, fun_name , truncated_dtype))\n",
      "/home/francois/.local/lib/python3.7/site-packages/jax/lax/lax.py:5190: UserWarning: Explicitly requested dtype <class 'jax.numpy.lax_numpy.int64'> requested in astype is not available, and will be truncated to dtype int32. To enable more dtypes, set the jax_enable_x64 configuration option or the JAX_ENABLE_X64 shell environment variable. See https://github.com/google/jax#current-gotchas for more.\n",
      "  warnings.warn(msg.format(dtype, fun_name , truncated_dtype))\n"
     ]
    },
    {
     "name": "stdout",
     "output_type": "stream",
     "text": [
      "Bonjour\n",
      "Bonjour\n",
      "Bonjour\n"
     ]
    },
    {
     "data": {
      "text/plain": [
       "DeviceArray([2.44489566e-08, 2.42529392e-08, 2.40594229e-08,\n",
       "             2.38680506e-08, 2.36789219e-08, 2.34917241e-08,\n",
       "             2.33069226e-08, 2.31239952e-08, 2.29434889e-08,\n",
       "             2.27646773e-08, 2.25882637e-08, 2.24138184e-08,\n",
       "             2.22413714e-08, 2.20707559e-08, 2.19018759e-08,\n",
       "             2.17351008e-08, 2.15703935e-08, 2.14072298e-08,\n",
       "             2.12460769e-08, 2.10864961e-08, 2.09290469e-08,\n",
       "             2.07733741e-08, 2.06188773e-08, 2.04667856e-08,\n",
       "             2.03161949e-08, 2.01672083e-08, 2.00197814e-08,\n",
       "             1.98739052e-08, 1.97301286e-08, 1.95871923e-08,\n",
       "             1.94464622e-08, 1.93069454e-08, 1.91689704e-08,\n",
       "             1.90324769e-08, 1.88975040e-08, 1.87636768e-08,\n",
       "             1.86319689e-08, 1.85014208e-08, 1.83720044e-08,\n",
       "             1.82437407e-08, 1.81176905e-08, 1.79914981e-08,\n",
       "             1.78682882e-08, 1.77456663e-08, 1.76242168e-08,\n",
       "             1.75041937e-08, 1.73851600e-08, 1.72675865e-08,\n",
       "             1.71511747e-08, 1.70361520e-08, 1.69219323e-08,\n",
       "             1.68091088e-08, 1.66972054e-08, 1.65870162e-08,\n",
       "             1.64771503e-08, 1.63688920e-08, 1.62615432e-08,\n",
       "             1.61553171e-08, 1.60501141e-08, 1.59460711e-08,\n",
       "             1.58426037e-08, 1.57404720e-08, 1.56393760e-08,\n",
       "             1.55392428e-08, 1.54399462e-08, 1.53416799e-08,\n",
       "             1.52443427e-08, 1.51479700e-08, 1.50525405e-08,\n",
       "             1.49578412e-08, 1.48643871e-08, 1.47714507e-08,\n",
       "             1.46795385e-08, 1.45883066e-08, 1.44982266e-08,\n",
       "             1.44085686e-08, 1.43199941e-08, 1.42323815e-08,\n",
       "             1.41454572e-08, 1.40590934e-08, 1.39738852e-08,\n",
       "             1.38891147e-08, 1.38052565e-08, 1.37221949e-08,\n",
       "             1.36398652e-08, 1.35581519e-08, 1.34770461e-08,\n",
       "             1.33970008e-08, 1.33174982e-08, 1.32386058e-08,\n",
       "             1.31602587e-08, 1.30828495e-08, 1.30060807e-08,\n",
       "             1.29299984e-08, 1.28544766e-08, 1.27794859e-08,\n",
       "             1.27052404e-08, 1.26316646e-08, 1.25587221e-08,\n",
       "             1.24862467e-08], dtype=float32)"
      ]
     },
     "execution_count": 12,
     "metadata": {},
     "output_type": "execute_result"
    }
   ],
   "source": [
    "batched_angular_cl(cosmo, np.linspace(50,100,100));"
   ]
  },
  {
   "cell_type": "code",
   "execution_count": 14,
   "metadata": {},
   "outputs": [
    {
     "name": "stderr",
     "output_type": "stream",
     "text": [
      "/home/francois/.local/lib/python3.7/site-packages/jax/lax/lax.py:5190: UserWarning: Explicitly requested dtype float64 requested in asarray is not available, and will be truncated to dtype float32. To enable more dtypes, set the jax_enable_x64 configuration option or the JAX_ENABLE_X64 shell environment variable. See https://github.com/google/jax#current-gotchas for more.\n",
      "  warnings.warn(msg.format(dtype, fun_name , truncated_dtype))\n",
      "/home/francois/.local/lib/python3.7/site-packages/jax/lax/lax.py:5190: UserWarning: Explicitly requested dtype float64 requested in array is not available, and will be truncated to dtype float32. To enable more dtypes, set the jax_enable_x64 configuration option or the JAX_ENABLE_X64 shell environment variable. See https://github.com/google/jax#current-gotchas for more.\n",
      "  warnings.warn(msg.format(dtype, fun_name , truncated_dtype))\n"
     ]
    },
    {
     "data": {
      "text/plain": [
       "[<matplotlib.lines.Line2D at 0x7f0a141f4d90>]"
      ]
     },
     "execution_count": 14,
     "metadata": {},
     "output_type": "execute_result"
    },
    {
     "data": {
      "image/png": "[encoded data removed]",
      "text/plain": [
       "<Figure size 432x288 with 1 Axes>"
      ]
     },
     "metadata": {
      "needs_background": "light"
     },
     "output_type": "display_data"
    }
   ],
   "source": [
    "loglog(np.logspace(1,3,100), batched_angular_cl(cosmo, np.logspace(1,3,100)))"
   ]
  },
  {
   "cell_type": "code",
   "execution_count": 16,
   "metadata": {},
   "outputs": [
    {
     "name": "stderr",
     "output_type": "stream",
     "text": [
      "/home/francois/.local/lib/python3.7/site-packages/jax/lax/lax.py:5190: UserWarning: Explicitly requested dtype float64 requested in asarray is not available, and will be truncated to dtype float32. To enable more dtypes, set the jax_enable_x64 configuration option or the JAX_ENABLE_X64 shell environment variable. See https://github.com/google/jax#current-gotchas for more.\n",
      "  warnings.warn(msg.format(dtype, fun_name , truncated_dtype))\n",
      "/home/francois/.local/lib/python3.7/site-packages/jax/lax/lax.py:5190: UserWarning: Explicitly requested dtype float64 requested in array is not available, and will be truncated to dtype float32. To enable more dtypes, set the jax_enable_x64 configuration option or the JAX_ENABLE_X64 shell environment variable. See https://github.com/google/jax#current-gotchas for more.\n",
      "  warnings.warn(msg.format(dtype, fun_name , truncated_dtype))\n"
     ]
    }
   ],
   "source": [
    "jax_cl = batched_angular_cl(cosmo, np.logspace(1,3,100));"
   ]
  },
  {
   "cell_type": "code",
   "execution_count": 18,
   "metadata": {},
   "outputs": [],
   "source": [
    "# Now we compare to CCL\n",
    "ccl_cls = load('/home/francois/Downloads/ccl_cls.npy')"
   ]
  },
  {
   "cell_type": "code",
   "execution_count": 19,
   "metadata": {},
   "outputs": [
    {
     "data": {
      "text/plain": [
       "Text(0, 0.5, 'Lensing angular $C_\\\\ell$')"
      ]
     },
     "execution_count": 19,
     "metadata": {},
     "output_type": "execute_result"
    },
    {
     "data": {
      "image/png": "[encoded data removed]",
      "text/plain": [
       "<Figure size 432x288 with 1 Axes>"
      ]
     },
     "metadata": {
      "needs_background": "light"
     },
     "output_type": "display_data"
    }
   ],
   "source": [
    "loglog(np.logspace(1,3), ccl_cls, label='CCL')\n",
    "loglog(np.logspace(1,3,100), jax_cl, '--', label='jax-cosmo')\n",
    "legend()\n",
    "xlabel(r'$\\ell$')\n",
    "ylabel('Lensing angular $C_\\ell$')"
   ]
  },
  {
   "cell_type": "code",
   "execution_count": null,
   "metadata": {},
   "outputs": [],
   "source": []
  }
 ],
 "metadata": {
  "kernelspec": {
   "display_name": "Python 3",
   "language": "python",
   "name": "python3"
  },
  "language_info": {
   "codemirror_mode": {
    "name": "ipython",
    "version": 3
   },
   "file_extension": ".py",
   "mimetype": "text/x-python",
   "name": "python",
   "nbconvert_exporter": "python",
   "pygments_lexer": "ipython3",
   "version": "3.7.4"
  }
 },
 "nbformat": 4,
 "nbformat_minor": 2
}
