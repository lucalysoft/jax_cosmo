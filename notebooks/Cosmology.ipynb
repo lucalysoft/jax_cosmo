{
  "nbformat": 4,
  "nbformat_minor": 0,
  "metadata": {
    "kernelspec": {
      "display_name": "Python 3",
      "language": "python",
      "name": "python3"
    },
    "language_info": {
      "codemirror_mode": {
        "name": "ipython",
        "version": 3
      },
      "file_extension": ".py",
      "mimetype": "text/x-python",
      "name": "python",
      "nbconvert_exporter": "python",
      "pygments_lexer": "ipython3",
      "version": "3.7.4"
    },
    "colab": {
      "name": "Cosmology.ipynb",
      "provenance": [],
      "include_colab_link": true
    },
    "accelerator": "GPU"
  },
  "cells": [
    {
      "cell_type": "markdown",
      "metadata": {
        "id": "view-in-github",
        "colab_type": "text"
      },
      "source": [
        "<a href=\"https://colab.research.google.com/github/DifferentiableUniverseInitiative/jax_cosmo/blob/master/notebooks/Cosmology.ipynb\" target=\"_parent\"><img src=\"https://colab.research.google.com/assets/colab-badge.svg\" alt=\"Open In Colab\"/></a>"
      ]
    },
    {
      "cell_type": "markdown",
      "metadata": {
        "id": "rTmL0GbUGoQg",
        "colab_type": "text"
      },
      "source": [
        "# Demo cosmology module of jax_cosmo"
      ]
    },
    {
      "cell_type": "code",
      "metadata": {
        "id": "TPkCuLTjGqbt",
        "colab_type": "code",
        "colab": {
          "base_uri": "https://localhost:8080/",
          "height": 323
        },
        "outputId": "b7149649-a73c-4392-b631-036f7e59f147"
      },
      "source": [
        "!pip install git+https://github.com/DifferentiableUniverseInitiative/jax_cosmo"
      ],
      "execution_count": 1,
      "outputs": [
        {
          "output_type": "stream",
          "text": [
            "Collecting git+https://github.com/DifferentiableUniverseInitiative/jax_cosmo\n",
            "  Cloning https://github.com/DifferentiableUniverseInitiative/jax_cosmo to /tmp/pip-req-build-ynbiuuok\n",
            "  Running command git clone -q https://github.com/DifferentiableUniverseInitiative/jax_cosmo /tmp/pip-req-build-ynbiuuok\n",
            "Requirement already satisfied: jax in /usr/local/lib/python3.6/dist-packages (from jax-cosmo==0.0.1) (0.1.64)\n",
            "Requirement already satisfied: jaxlib in /usr/local/lib/python3.6/dist-packages (from jax-cosmo==0.0.1) (0.1.45)\n",
            "Requirement already satisfied: opt-einsum in /usr/local/lib/python3.6/dist-packages (from jax->jax-cosmo==0.0.1) (3.2.1)\n",
            "Requirement already satisfied: absl-py in /usr/local/lib/python3.6/dist-packages (from jax->jax-cosmo==0.0.1) (0.9.0)\n",
            "Requirement already satisfied: numpy>=1.12 in /usr/local/lib/python3.6/dist-packages (from jax->jax-cosmo==0.0.1) (1.18.3)\n",
            "Requirement already satisfied: scipy in /usr/local/lib/python3.6/dist-packages (from jaxlib->jax-cosmo==0.0.1) (1.4.1)\n",
            "Requirement already satisfied: six in /usr/local/lib/python3.6/dist-packages (from absl-py->jax->jax-cosmo==0.0.1) (1.12.0)\n",
            "Building wheels for collected packages: jax-cosmo\n",
            "  Building wheel for jax-cosmo (setup.py) ... \u001b[?25l\u001b[?25hdone\n",
            "  Created wheel for jax-cosmo: filename=jax_cosmo-0.0.1-cp36-none-any.whl size=10744 sha256=029bcb7f21257e7540f46808abecf373f98fd6cfe75515c9aa11837a3ba115a5\n",
            "  Stored in directory: /tmp/pip-ephem-wheel-cache-4ia8lidn/wheels/2b/a5/1f/8a5a82ece15d8184742b144dbc65b56bbd60595ddf1add26d5\n",
            "Successfully built jax-cosmo\n",
            "Installing collected packages: jax-cosmo\n",
            "Successfully installed jax-cosmo-0.0.1\n"
          ],
          "name": "stdout"
        }
      ]
    },
    {
      "cell_type": "code",
      "metadata": {
        "id": "eY-7A7wHGoQi",
        "colab_type": "code",
        "colab": {
          "base_uri": "https://localhost:8080/",
          "height": 35
        },
        "outputId": "37a2e5c7-02dc-47eb-fa75-4bacd6c07e35"
      },
      "source": [
        "%pylab inline\n",
        "import jax\n",
        "import jax.numpy as np\n",
        "from jax_cosmo.cosmology import cosmology"
      ],
      "execution_count": 1,
      "outputs": [
        {
          "output_type": "stream",
          "text": [
            "Populating the interactive namespace from numpy and matplotlib\n"
          ],
          "name": "stdout"
        }
      ]
    },
    {
      "cell_type": "code",
      "metadata": {
        "id": "BiX_AP-UGoQq",
        "colab_type": "code",
        "colab": {}
      },
      "source": [
        "cosmo = cosmology()"
      ],
      "execution_count": 0,
      "outputs": []
    },
    {
      "cell_type": "code",
      "metadata": {
        "id": "BFqgrTteGoQv",
        "colab_type": "code",
        "colab": {
          "base_uri": "https://localhost:8080/",
          "height": 109
        },
        "outputId": "2d099bca-c1c4-4e2d-fa95-4afa760ed0e1"
      },
      "source": [
        "# Get a k array\n",
        "k = np.logspace(-3,0)\n",
        "# Compute transfer function\n",
        "t = cosmo.T(k)\n",
        "# Compute the linear power spectrum, minus the growth part\n",
        "pk = cosmo.pk_prim(k) *  t**2"
      ],
      "execution_count": 3,
      "outputs": [
        {
          "output_type": "stream",
          "text": [
            "/usr/local/lib/python3.6/dist-packages/jax/lax/lax.py:5104: UserWarning: Explicitly requested dtype float64 requested in asarray is not available, and will be truncated to dtype float32. To enable more dtypes, set the jax_enable_x64 configuration option or the JAX_ENABLE_X64 shell environment variable. See https://github.com/google/jax#current-gotchas for more.\n",
            "  warnings.warn(msg.format(dtype, fun_name , truncated_dtype))\n",
            "/usr/local/lib/python3.6/dist-packages/jax/lax/lax.py:5104: UserWarning: Explicitly requested dtype float64 requested in array is not available, and will be truncated to dtype float32. To enable more dtypes, set the jax_enable_x64 configuration option or the JAX_ENABLE_X64 shell environment variable. See https://github.com/google/jax#current-gotchas for more.\n",
            "  warnings.warn(msg.format(dtype, fun_name , truncated_dtype))\n"
          ],
          "name": "stderr"
        }
      ]
    },
    {
      "cell_type": "code",
      "metadata": {
        "id": "4Cw6qS6YGoQ2",
        "colab_type": "code",
        "colab": {
          "base_uri": "https://localhost:8080/",
          "height": 287
        },
        "outputId": "75d52c8e-3476-421b-aae3-7f9788140cd9"
      },
      "source": [
        "loglog(k, pk)"
      ],
      "execution_count": 4,
      "outputs": [
        {
          "output_type": "execute_result",
          "data": {
            "text/plain": [
              "[<matplotlib.lines.Line2D at 0x7ff030444a90>]"
            ]
          },
          "metadata": {
            "tags": []
          },
          "execution_count": 4
        },
        {
          "output_type": "display_data",
          "data": {
            "image/png": "[encoded data removed]",
            "text/plain": [
              "<Figure size 432x288 with 1 Axes>"
            ]
          },
          "metadata": {
            "tags": [],
            "needs_background": "light"
          }
        }
      ]
    },
    {
      "cell_type": "markdown",
      "metadata": {
        "id": "oWHJ8WMvGoQ7",
        "colab_type": "text"
      },
      "source": [
        "\\o/ Fantastic!"
      ]
    },
    {
      "cell_type": "code",
      "metadata": {
        "id": "Is_q2stLGoQ9",
        "colab_type": "code",
        "colab": {}
      },
      "source": [
        "# Now let's try to compute some gradients :-D\n",
        "def get_pk_loss(Omega_m):\n",
        "    cosmo.update(Omega_m=Omega_m)\n",
        "    return np.sum((cosmo.pk_prim(k) * cosmo.T(k)**2 - pk)**2)"
      ],
      "execution_count": 0,
      "outputs": []
    },
    {
      "cell_type": "code",
      "metadata": {
        "id": "sIS32uKdGoRC",
        "colab_type": "code",
        "colab": {
          "base_uri": "https://localhost:8080/",
          "height": 35
        },
        "outputId": "ad24456f-0f98-4cae-c6be-ce0c9205d7c1"
      },
      "source": [
        "grad_pk_loss = jax.grad(get_pk_loss)\n",
        "grad_pk_loss(0.3)"
      ],
      "execution_count": 6,
      "outputs": [
        {
          "output_type": "execute_result",
          "data": {
            "text/plain": [
              "DeviceArray(0.00109025, dtype=float32)"
            ]
          },
          "metadata": {
            "tags": []
          },
          "execution_count": 6
        }
      ]
    },
    {
      "cell_type": "code",
      "metadata": {
        "id": "NOSMKJkEGoRJ",
        "colab_type": "code",
        "colab": {}
      },
      "source": [
        "# Let's try some manual gradient descent\n",
        "om = 0.2\n",
        "cosmo.update(Omega_m=0.2)\n",
        "\n",
        "pks = []\n",
        "for i in range(10):\n",
        "    om -= 10*grad_pk_loss(om)\n",
        "    pks.append(cosmo.pk_prim(k) * cosmo.T(k)**2)"
      ],
      "execution_count": 0,
      "outputs": []
    },
    {
      "cell_type": "code",
      "metadata": {
        "id": "1Ux1Y3HHGoRP",
        "colab_type": "code",
        "colab": {}
      },
      "source": [
        "t = cosmo.T(k)\n",
        "# Compute the linear power spectrum, minus the growth part\n",
        "pkrec = cosmo.pk_prim(k) *  t**2"
      ],
      "execution_count": 0,
      "outputs": []
    },
    {
      "cell_type": "code",
      "metadata": {
        "id": "2HAIGvVLGoRT",
        "colab_type": "code",
        "colab": {
          "base_uri": "https://localhost:8080/",
          "height": 301
        },
        "outputId": "ad45116b-602f-4c36-9aeb-d36aab9c54c0"
      },
      "source": [
        "import matplotlib.pylab as plt\n",
        "colors = plt.cm.jet(np.linspace(0,1,10))\n",
        "\n",
        "loglog(k, pk, label='true')\n",
        "for i,v in enumerate(pks):\n",
        "    loglog(k, v.primal, color=colors[i],alpha=0.5)\n",
        "loglog(k, pkrec.primal, '--', label='Fitted')\n",
        "legend()\n",
        "xlabel('k')"
      ],
      "execution_count": 9,
      "outputs": [
        {
          "output_type": "execute_result",
          "data": {
            "text/plain": [
              "Text(0.5, 0, 'k')"
            ]
          },
          "metadata": {
            "tags": []
          },
          "execution_count": 9
        },
        {
          "output_type": "display_data",
          "data": {
            "image/png": "[encoded data removed]",
            "text/plain": [
              "<Figure size 432x288 with 1 Axes>"
            ]
          },
          "metadata": {
            "tags": [],
            "needs_background": "light"
          }
        }
      ]
    },
    {
      "cell_type": "code",
      "metadata": {
        "id": "KVFujTC4GoRb",
        "colab_type": "code",
        "colab": {}
      },
      "source": [
        ""
      ],
      "execution_count": 0,
      "outputs": []
    }
  ]
}